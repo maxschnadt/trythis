{
 "cells": [
  {
   "cell_type": "markdown",
   "id": "d335ab8d-406e-4da0-90fa-296687a5e357",
   "metadata": {
    "tags": []
   },
   "source": [
    "# My Personal Recommendations of Math Textbooks\n",
    "> What to read if you want to learn pure math\n",
    "- toc: true \n",
    "- badges: false\n",
    "- comments: true\n",
    "- categories: [jupyter]\n",
    "- image: images/chart-preview.png"
   ]
  },
  {
   "cell_type": "markdown",
   "id": "32463760-b540-4b3e-be63-17e88cf8233d",
   "metadata": {},
   "source": [
    "# Criteria"
   ]
  },
  {
   "cell_type": "markdown",
   "id": "2a404680-14b0-48b3-8dfd-be1d759bf528",
   "metadata": {},
   "source": [
    "Since everyone has their personal preferences when it comes to textbooks, i first wanna outline what i think is important, so it's easier for you to follow my reasoning:"
   ]
  },
  {
   "cell_type": "markdown",
   "id": "1343baa0-6715-4cba-9a2d-cac42f8b89b2",
   "metadata": {},
   "source": [
    "## Explanations"
   ]
  },
  {
   "cell_type": "markdown",
   "id": "e8b75ab6-b92b-4c2f-9187-81a6f71dec70",
   "metadata": {},
   "source": [
    "1. Explanations need to be clear and directly aimed at the topic at hand."
   ]
  },
  {
   "cell_type": "markdown",
   "id": "ad361b20-d0ec-4170-a82e-afdc400279c9",
   "metadata": {},
   "source": [
    "## Proofs"
   ]
  },
  {
   "cell_type": "markdown",
   "id": "1999fc7e-4e5b-4b0a-94e8-2417d5cb2348",
   "metadata": {},
   "source": [
    "1. All theorems in the main body of the text have to be accompanied by complete proofs. No shortcuts, no handwaving, nothing. Phrases like \"the proof is left as an exercise to the reader\", \"this is obvious\" or \"easy\" are not acceptable.\n",
    "2. Proofs should also include the intermediary steps of reasoning. Jumps or breaks in reasoning hinder the ability to understand the proof and should be avoided."
   ]
  }
 ],
 "metadata": {
  "kernelspec": {
   "display_name": "Python 3 (ipykernel)",
   "language": "python",
   "name": "python3"
  },
  "language_info": {
   "codemirror_mode": {
    "name": "ipython",
    "version": 3
   },
   "file_extension": ".py",
   "mimetype": "text/x-python",
   "name": "python",
   "nbconvert_exporter": "python",
   "pygments_lexer": "ipython3",
   "version": "3.8.12"
  }
 },
 "nbformat": 4,
 "nbformat_minor": 5
}
